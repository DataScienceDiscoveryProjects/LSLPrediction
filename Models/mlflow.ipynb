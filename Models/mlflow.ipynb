{
 "cells": [
  {
   "cell_type": "code",
   "execution_count": 1,
   "id": "f867de68-4065-4b33-99ae-67310d327a03",
   "metadata": {
    "tags": []
   },
   "outputs": [
    {
     "name": "stdout",
     "output_type": "stream",
     "text": [
      "Requirement already satisfied: mlflow in /Applications/anaconda3/lib/python3.10/site-packages (2.11.1)\n",
      "Requirement already satisfied: click<9,>=7.0 in /Applications/anaconda3/lib/python3.10/site-packages (from mlflow) (8.1.7)\n",
      "Requirement already satisfied: cloudpickle<4 in /Applications/anaconda3/lib/python3.10/site-packages (from mlflow) (2.2.1)\n",
      "Requirement already satisfied: entrypoints<1 in /Applications/anaconda3/lib/python3.10/site-packages (from mlflow) (0.4)\n",
      "Requirement already satisfied: gitpython<4,>=3.1.9 in /Applications/anaconda3/lib/python3.10/site-packages (from mlflow) (3.1.42)\n",
      "Requirement already satisfied: pyyaml<7,>=5.1 in /Applications/anaconda3/lib/python3.10/site-packages (from mlflow) (6.0)\n",
      "Requirement already satisfied: protobuf<5,>=3.12.0 in /Applications/anaconda3/lib/python3.10/site-packages (from mlflow) (3.20.3)\n",
      "Requirement already satisfied: pytz<2025 in /Applications/anaconda3/lib/python3.10/site-packages (from mlflow) (2022.7)\n",
      "Requirement already satisfied: requests<3,>=2.17.3 in /Applications/anaconda3/lib/python3.10/site-packages (from mlflow) (2.31.0)\n",
      "Requirement already satisfied: packaging<24 in /Applications/anaconda3/lib/python3.10/site-packages (from mlflow) (23.0)\n",
      "Requirement already satisfied: importlib-metadata!=4.7.0,<8,>=3.7.0 in /Applications/anaconda3/lib/python3.10/site-packages (from mlflow) (6.0.0)\n",
      "Requirement already satisfied: sqlparse<1,>=0.4.0 in /Applications/anaconda3/lib/python3.10/site-packages (from mlflow) (0.4.4)\n",
      "Requirement already satisfied: alembic!=1.10.0,<2 in /Applications/anaconda3/lib/python3.10/site-packages (from mlflow) (1.13.1)\n",
      "Requirement already satisfied: docker<8,>=4.0.0 in /Applications/anaconda3/lib/python3.10/site-packages (from mlflow) (7.0.0)\n",
      "Requirement already satisfied: Flask<4 in /Applications/anaconda3/lib/python3.10/site-packages (from mlflow) (2.2.2)\n",
      "Requirement already satisfied: numpy<2 in /Applications/anaconda3/lib/python3.10/site-packages (from mlflow) (1.23.0)\n",
      "Requirement already satisfied: scipy<2 in /Applications/anaconda3/lib/python3.10/site-packages (from mlflow) (1.11.1)\n",
      "Requirement already satisfied: pandas<3 in /Applications/anaconda3/lib/python3.10/site-packages (from mlflow) (1.5.3)\n",
      "Requirement already satisfied: querystring-parser<2 in /Applications/anaconda3/lib/python3.10/site-packages (from mlflow) (1.2.4)\n",
      "Requirement already satisfied: sqlalchemy<3,>=1.4.0 in /Applications/anaconda3/lib/python3.10/site-packages (from mlflow) (1.4.39)\n",
      "Requirement already satisfied: scikit-learn<2 in /Applications/anaconda3/lib/python3.10/site-packages (from mlflow) (1.2.1)\n",
      "Requirement already satisfied: pyarrow<16,>=4.0.0 in /Applications/anaconda3/lib/python3.10/site-packages (from mlflow) (15.0.1)\n",
      "Requirement already satisfied: markdown<4,>=3.3 in /Applications/anaconda3/lib/python3.10/site-packages (from mlflow) (3.4.1)\n",
      "Requirement already satisfied: matplotlib<4 in /Applications/anaconda3/lib/python3.10/site-packages (from mlflow) (3.7.0)\n",
      "Requirement already satisfied: graphene<4 in /Applications/anaconda3/lib/python3.10/site-packages (from mlflow) (3.3)\n",
      "Requirement already satisfied: gunicorn<22 in /Applications/anaconda3/lib/python3.10/site-packages (from mlflow) (21.2.0)\n",
      "Requirement already satisfied: Jinja2<4,>=2.11 in /Applications/anaconda3/lib/python3.10/site-packages (from mlflow) (3.1.2)\n",
      "Requirement already satisfied: Mako in /Applications/anaconda3/lib/python3.10/site-packages (from alembic!=1.10.0,<2->mlflow) (1.3.2)\n",
      "Requirement already satisfied: typing-extensions>=4 in /Applications/anaconda3/lib/python3.10/site-packages (from alembic!=1.10.0,<2->mlflow) (4.6.3)\n",
      "Requirement already satisfied: urllib3>=1.26.0 in /Applications/anaconda3/lib/python3.10/site-packages (from docker<8,>=4.0.0->mlflow) (1.26.16)\n",
      "Requirement already satisfied: Werkzeug>=2.2.2 in /Applications/anaconda3/lib/python3.10/site-packages (from Flask<4->mlflow) (2.2.2)\n",
      "Requirement already satisfied: itsdangerous>=2.0 in /Applications/anaconda3/lib/python3.10/site-packages (from Flask<4->mlflow) (2.0.1)\n",
      "Requirement already satisfied: gitdb<5,>=4.0.1 in /Applications/anaconda3/lib/python3.10/site-packages (from gitpython<4,>=3.1.9->mlflow) (4.0.11)\n",
      "Requirement already satisfied: graphql-core<3.3,>=3.1 in /Applications/anaconda3/lib/python3.10/site-packages (from graphene<4->mlflow) (3.2.3)\n",
      "Requirement already satisfied: graphql-relay<3.3,>=3.1 in /Applications/anaconda3/lib/python3.10/site-packages (from graphene<4->mlflow) (3.2.0)\n",
      "Requirement already satisfied: aniso8601<10,>=8 in /Applications/anaconda3/lib/python3.10/site-packages (from graphene<4->mlflow) (9.0.1)\n",
      "Requirement already satisfied: zipp>=0.5 in /Applications/anaconda3/lib/python3.10/site-packages (from importlib-metadata!=4.7.0,<8,>=3.7.0->mlflow) (3.11.0)\n",
      "Requirement already satisfied: MarkupSafe>=2.0 in /Applications/anaconda3/lib/python3.10/site-packages (from Jinja2<4,>=2.11->mlflow) (2.1.1)\n",
      "Requirement already satisfied: contourpy>=1.0.1 in /Applications/anaconda3/lib/python3.10/site-packages (from matplotlib<4->mlflow) (1.0.5)\n",
      "Requirement already satisfied: cycler>=0.10 in /Applications/anaconda3/lib/python3.10/site-packages (from matplotlib<4->mlflow) (0.11.0)\n",
      "Requirement already satisfied: fonttools>=4.22.0 in /Applications/anaconda3/lib/python3.10/site-packages (from matplotlib<4->mlflow) (4.25.0)\n",
      "Requirement already satisfied: kiwisolver>=1.0.1 in /Applications/anaconda3/lib/python3.10/site-packages (from matplotlib<4->mlflow) (1.4.4)\n",
      "Requirement already satisfied: pillow>=6.2.0 in /Applications/anaconda3/lib/python3.10/site-packages (from matplotlib<4->mlflow) (9.4.0)\n",
      "Requirement already satisfied: pyparsing>=2.3.1 in /Applications/anaconda3/lib/python3.10/site-packages (from matplotlib<4->mlflow) (2.4.5)\n",
      "Requirement already satisfied: python-dateutil>=2.7 in /Applications/anaconda3/lib/python3.10/site-packages (from matplotlib<4->mlflow) (2.8.2)\n",
      "Requirement already satisfied: six in /Applications/anaconda3/lib/python3.10/site-packages (from querystring-parser<2->mlflow) (1.16.0)\n",
      "Requirement already satisfied: charset-normalizer<4,>=2 in /Applications/anaconda3/lib/python3.10/site-packages (from requests<3,>=2.17.3->mlflow) (2.0.4)\n",
      "Requirement already satisfied: idna<4,>=2.5 in /Applications/anaconda3/lib/python3.10/site-packages (from requests<3,>=2.17.3->mlflow) (3.4)\n",
      "Requirement already satisfied: certifi>=2017.4.17 in /Applications/anaconda3/lib/python3.10/site-packages (from requests<3,>=2.17.3->mlflow) (2023.11.17)\n",
      "Requirement already satisfied: joblib>=1.1.1 in /Applications/anaconda3/lib/python3.10/site-packages (from scikit-learn<2->mlflow) (1.1.1)\n",
      "Requirement already satisfied: threadpoolctl>=2.0.0 in /Applications/anaconda3/lib/python3.10/site-packages (from scikit-learn<2->mlflow) (2.2.0)\n",
      "Requirement already satisfied: smmap<6,>=3.0.1 in /Applications/anaconda3/lib/python3.10/site-packages (from gitdb<5,>=4.0.1->gitpython<4,>=3.1.9->mlflow) (5.0.1)\n",
      "Note: you may need to restart the kernel to use updated packages.\n"
     ]
    }
   ],
   "source": [
    "pip install mlflow\n"
   ]
  },
  {
   "cell_type": "code",
   "execution_count": 4,
   "id": "d659bfdd-194e-4272-9b1a-1fce0116c4eb",
   "metadata": {
    "tags": []
   },
   "outputs": [],
   "source": [
    "import mlflow\n",
    "mlflow.set_tracking_uri(uri=\"http://<host>:<port>\")\n"
   ]
  },
  {
   "cell_type": "code",
   "execution_count": 5,
   "id": "8ee8a4a4-3f19-46ad-ae3b-e00e42805553",
   "metadata": {
    "tags": []
   },
   "outputs": [],
   "source": [
    "import mlflow\n",
    "from mlflow.models import infer_signature\n",
    "\n",
    "import pandas as pd\n",
    "from sklearn import datasets\n",
    "from sklearn.model_selection import train_test_split\n",
    "from sklearn.linear_model import LogisticRegression\n",
    "from sklearn.metrics import accuracy_score, precision_score, recall_score, f1_score\n",
    "\n",
    "\n",
    "# Load the Iris dataset\n",
    "X, y = datasets.load_iris(return_X_y=True)\n",
    "\n",
    "# Split the data into training and test sets\n",
    "X_train, X_test, y_train, y_test = train_test_split(\n",
    "    X, y, test_size=0.2, random_state=42\n",
    ")\n",
    "\n",
    "# Define the model hyperparameters\n",
    "params = {\n",
    "    \"solver\": \"lbfgs\",\n",
    "    \"max_iter\": 1000,\n",
    "    \"multi_class\": \"auto\",\n",
    "    \"random_state\": 8888,\n",
    "}\n",
    "\n",
    "# Train the model\n",
    "lr = LogisticRegression(**params)\n",
    "lr.fit(X_train, y_train)\n",
    "\n",
    "# Predict on the test set\n",
    "y_pred = lr.predict(X_test)\n",
    "\n",
    "# Calculate metrics\n",
    "accuracy = accuracy_score(y_test, y_pred)\n"
   ]
  },
  {
   "cell_type": "code",
   "execution_count": 6,
   "id": "6192511b-c344-4943-a9e6-90f4215211e8",
   "metadata": {
    "tags": []
   },
   "outputs": [
    {
     "name": "stderr",
     "output_type": "stream",
     "text": [
      "2024/03/12 11:28:43 INFO mlflow.tracking.fluent: Experiment with name 'MLflow Quickstart' does not exist. Creating a new experiment.\n",
      "/Applications/anaconda3/lib/python3.10/site-packages/_distutils_hack/__init__.py:33: UserWarning: Setuptools is replacing distutils.\n",
      "  warnings.warn(\"Setuptools is replacing distutils.\")\n",
      "Successfully registered model 'tracking-quickstart'.\n",
      "2024/03/12 11:28:45 INFO mlflow.store.model_registry.abstract_store: Waiting up to 300 seconds for model version to finish creation. Model name: tracking-quickstart, version 1\n",
      "Created version '1' of model 'tracking-quickstart'.\n"
     ]
    }
   ],
   "source": [
    "# Set our tracking server uri for logging\n",
    "mlflow.set_tracking_uri(uri=\"http://127.0.0.1:8080\")\n",
    "\n",
    "# Create a new MLflow Experiment\n",
    "mlflow.set_experiment(\"MLflow Quickstart\")\n",
    "\n",
    "# Start an MLflow run\n",
    "with mlflow.start_run():\n",
    "    # Log the hyperparameters\n",
    "    mlflow.log_params(params)\n",
    "\n",
    "    # Log the loss metric\n",
    "    mlflow.log_metric(\"accuracy\", accuracy)\n",
    "\n",
    "    # Set a tag that we can use to remind ourselves what this run was for\n",
    "    mlflow.set_tag(\"Training Info\", \"Basic LR model for iris data\")\n",
    "\n",
    "    # Infer the model signature\n",
    "    signature = infer_signature(X_train, lr.predict(X_train))\n",
    "\n",
    "    # Log the model\n",
    "    model_info = mlflow.sklearn.log_model(\n",
    "        sk_model=lr,\n",
    "        artifact_path=\"iris_model\",\n",
    "        signature=signature,\n",
    "        input_example=X_train,\n",
    "        registered_model_name=\"tracking-quickstart\",\n",
    "    )\n"
   ]
  },
  {
   "cell_type": "code",
   "execution_count": 7,
   "id": "e8359732-b7c9-4500-8e20-27db193532bc",
   "metadata": {
    "tags": []
   },
   "outputs": [
    {
     "data": {
      "application/vnd.jupyter.widget-view+json": {
       "model_id": "43795ef7cb7c42e6882b01746af36080",
       "version_major": 2,
       "version_minor": 0
      },
      "text/plain": [
       "Downloading artifacts:   0%|          | 0/6 [00:00<?, ?it/s]"
      ]
     },
     "metadata": {},
     "output_type": "display_data"
    },
    {
     "data": {
      "text/html": [
       "<div>\n",
       "<style scoped>\n",
       "    .dataframe tbody tr th:only-of-type {\n",
       "        vertical-align: middle;\n",
       "    }\n",
       "\n",
       "    .dataframe tbody tr th {\n",
       "        vertical-align: top;\n",
       "    }\n",
       "\n",
       "    .dataframe thead th {\n",
       "        text-align: right;\n",
       "    }\n",
       "</style>\n",
       "<table border=\"1\" class=\"dataframe\">\n",
       "  <thead>\n",
       "    <tr style=\"text-align: right;\">\n",
       "      <th></th>\n",
       "      <th>sepal length (cm)</th>\n",
       "      <th>sepal width (cm)</th>\n",
       "      <th>petal length (cm)</th>\n",
       "      <th>petal width (cm)</th>\n",
       "      <th>actual_class</th>\n",
       "      <th>predicted_class</th>\n",
       "    </tr>\n",
       "  </thead>\n",
       "  <tbody>\n",
       "    <tr>\n",
       "      <th>0</th>\n",
       "      <td>6.1</td>\n",
       "      <td>2.8</td>\n",
       "      <td>4.7</td>\n",
       "      <td>1.2</td>\n",
       "      <td>1</td>\n",
       "      <td>1</td>\n",
       "    </tr>\n",
       "    <tr>\n",
       "      <th>1</th>\n",
       "      <td>5.7</td>\n",
       "      <td>3.8</td>\n",
       "      <td>1.7</td>\n",
       "      <td>0.3</td>\n",
       "      <td>0</td>\n",
       "      <td>0</td>\n",
       "    </tr>\n",
       "    <tr>\n",
       "      <th>2</th>\n",
       "      <td>7.7</td>\n",
       "      <td>2.6</td>\n",
       "      <td>6.9</td>\n",
       "      <td>2.3</td>\n",
       "      <td>2</td>\n",
       "      <td>2</td>\n",
       "    </tr>\n",
       "    <tr>\n",
       "      <th>3</th>\n",
       "      <td>6.0</td>\n",
       "      <td>2.9</td>\n",
       "      <td>4.5</td>\n",
       "      <td>1.5</td>\n",
       "      <td>1</td>\n",
       "      <td>1</td>\n",
       "    </tr>\n",
       "  </tbody>\n",
       "</table>\n",
       "</div>"
      ],
      "text/plain": [
       "   sepal length (cm)  sepal width (cm)  petal length (cm)  petal width (cm)  \\\n",
       "0                6.1               2.8                4.7               1.2   \n",
       "1                5.7               3.8                1.7               0.3   \n",
       "2                7.7               2.6                6.9               2.3   \n",
       "3                6.0               2.9                4.5               1.5   \n",
       "\n",
       "   actual_class  predicted_class  \n",
       "0             1                1  \n",
       "1             0                0  \n",
       "2             2                2  \n",
       "3             1                1  "
      ]
     },
     "execution_count": 7,
     "metadata": {},
     "output_type": "execute_result"
    }
   ],
   "source": [
    "# Load the model back for predictions as a generic Python Function model\n",
    "loaded_model = mlflow.pyfunc.load_model(model_info.model_uri)\n",
    "\n",
    "predictions = loaded_model.predict(X_test)\n",
    "\n",
    "iris_feature_names = datasets.load_iris().feature_names\n",
    "\n",
    "result = pd.DataFrame(X_test, columns=iris_feature_names)\n",
    "result[\"actual_class\"] = y_test\n",
    "result[\"predicted_class\"] = predictions\n",
    "\n",
    "result[:4]\n"
   ]
  },
  {
   "cell_type": "code",
   "execution_count": 8,
   "id": "56731f9d-f156-4825-8d85-93a6741e2969",
   "metadata": {},
   "outputs": [],
   "source": [
    " # http://localhost:8080/#/experiments/696869107214337259/runs/a15d0766779841049b33b4cd466d8a36"
   ]
  },
  {
   "cell_type": "code",
   "execution_count": null,
   "id": "bf81ba4c-946a-435c-ac61-bb383330d9f4",
   "metadata": {},
   "outputs": [],
   "source": []
  }
 ],
 "metadata": {
  "kernelspec": {
   "display_name": "Python 3 (ipykernel)",
   "language": "python",
   "name": "python3"
  },
  "language_info": {
   "codemirror_mode": {
    "name": "ipython",
    "version": 3
   },
   "file_extension": ".py",
   "mimetype": "text/x-python",
   "name": "python",
   "nbconvert_exporter": "python",
   "pygments_lexer": "ipython3",
   "version": "3.10.9"
  }
 },
 "nbformat": 4,
 "nbformat_minor": 5
}

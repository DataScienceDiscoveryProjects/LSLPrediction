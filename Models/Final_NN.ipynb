{
  "nbformat": 4,
  "nbformat_minor": 0,
  "metadata": {
    "colab": {
      "provenance": []
    },
    "kernelspec": {
      "name": "python3",
      "display_name": "Python 3"
    },
    "language_info": {
      "name": "python"
    }
  },
  "cells": [
    {
      "cell_type": "markdown",
      "source": [
        "Data Processing"
      ],
      "metadata": {
        "id": "jLxX4vGuTA1B"
      }
    },
    {
      "cell_type": "code",
      "source": [
        "\n",
        "import pandas as pd\n",
        "df = pd.read_csv('/work/final_forreal.csv')\n",
        "\n",
        "home_ohe = pd.get_dummies(df['homeType'])\n",
        "home_ohe\n",
        "df = pd.concat([df, home_ohe], axis = 1)\n",
        "df\n",
        "\n",
        "import numpy as np\n",
        "from sklearn.model_selection import train_test_split\n",
        "from sklearn.preprocessing import StandardScaler\n",
        "from sklearn.impute import SimpleImputer\n",
        "from sklearn.ensemble import RandomForestClassifier\n",
        "from sklearn.metrics import roc_auc_score, accuracy_score, confusion_matrix\n",
        "from imblearn.over_sampling import SMOTE\n",
        "#columns=['Lead', 'Address', 'city', 'cityId', 'county', 'countyFIPS', 'homeType', 'livingArea', 'livingAreaValue', 'parcelId', 'price', 'regionString', 'state', 'stateId', 'zipcode']\n",
        "\n",
        "X = df.drop(columns=['Lead', 'Address', 'city', 'cityId', 'county', 'countyFIPS', 'homeType', 'livingArea', 'livingAreaValue', 'parcelId', 'price', 'regionString', 'state', 'stateId', 'zipcode'])\n",
        "y = df['Lead']\n",
        "\n",
        "# Replace NaN values with the mean of the non-missing values\n",
        "imputer = SimpleImputer(strategy=\"mean\")\n",
        "X = imputer.fit_transform(X)\n",
        "\n",
        "# Split the data into training and testing sets\n",
        "X_train, X_test, y_train, y_test = train_test_split(X, y, test_size=0.2, random_state=42)\n",
        "\n",
        "# Standardize the input features\n",
        "scaler = StandardScaler()\n",
        "X_train = scaler.fit_transform(X_train)\n",
        "X_test = scaler.transform(X_test)\n",
        "\n",
        "# Use SMOTE to oversample the positive class to 30,000 samples\n",
        "smote = SMOTE(sampling_strategy={1: 50000}, random_state=42)\n",
        "X_train_resampled, y_train_resampled = smote.fit_resample(X_train, y_train)"
      ],
      "metadata": {
        "id": "jDNI06uUAKRK"
      },
      "execution_count": null,
      "outputs": []
    },
    {
      "cell_type": "markdown",
      "source": [
        "Model"
      ],
      "metadata": {
        "id": "RwApywFfTDQe"
      }
    },
    {
      "cell_type": "code",
      "source": [
        "# Define the binary classification neural network model\n",
        "model = tf.keras.Sequential([\n",
        "    tf.keras.layers.Input(shape=8),  # Change to 8 features\n",
        "    tf.keras.layers.Dense(64, activation='relu'),\n",
        "    tf.keras.layers.Dense(32, activation='relu'),\n",
        "    tf.keras.layers.Dense(1, activation='sigmoid')\n",
        "])\n",
        "\n",
        "# Compile the model with class weights, accuracy as the metric, and a learning rate of 0.00001\n",
        "model.compile(optimizer=tf.keras.optimizers.Adam(learning_rate=0.001),\n",
        "              loss='binary_crossentropy', metrics=[auroc_metric])\n",
        "\n",
        "# Train the model with class weights\n",
        "model.fit(X_train_resampled, y_train_resampled, epochs=10, batch_size=64, validation_split=0.2, class_weight=class_weights)\n",
        "\n",
        "# Make predictions on the test set\n",
        "y_pred = model.predict(X_test)\n",
        "\n",
        "# Convert probabilities to binary predictions\n",
        "y_pred_binary = (y_pred > 0.5).astype(int)\n",
        "\n",
        "# Calculate confusion matrix\n",
        "confusion = confusion_matrix(y_test, y_pred_binary)\n",
        "\n",
        "# Calculate false positive rate, false negative rate, and AUROC\n",
        "tn, fp, fn, tp = confusion.ravel()\n",
        "false_positive_rate = fp / (fp + tn)\n",
        "false_negative_rate = fn / (fn + tp)\n",
        "\n",
        "# Print the results\n",
        "print(f\"Accuracy: {accuracy_score(y_test, y_pred_binary)}\")\n",
        "print(f\"False Positive Rate: {false_positive_rate}\")\n",
        "print(f\"False Negative Rate: {false_negative_rate}\")"
      ],
      "metadata": {
        "id": "5GbJqorpTEs3"
      },
      "execution_count": null,
      "outputs": []
    }
  ]
}
{
 "cells": [
  {
   "cell_type": "code",
   "execution_count": 1,
   "metadata": {},
   "outputs": [
    {
     "data": {
      "text/plain": [
       "'/Users/phucpham/Desktop/lead-in-water'"
      ]
     },
     "execution_count": 1,
     "metadata": {},
     "output_type": "execute_result"
    }
   ],
   "source": [
    "import os\n",
    "os.getcwd()\n"
   ]
  },
  {
   "cell_type": "code",
   "execution_count": 2,
   "metadata": {},
   "outputs": [],
   "source": [
    "import numpy as np\n",
    "import pandas as pd\n",
    "import statsmodels.api as sm\n",
    "import statsmodels.formula.api as smf\n",
    "import matplotlib.pyplot as plt\n",
    "from sklearn.metrics import roc_curve, auc\n",
    "from sklearn.model_selection import train_test_split\n",
    "from sklearn.metrics import confusion_matrix\n",
    "from sklearn.discriminant_analysis import LinearDiscriminantAnalysis\n",
    "from sklearn.metrics import accuracy_score\n"
   ]
  },
  {
   "cell_type": "code",
   "execution_count": 3,
   "metadata": {},
   "outputs": [],
   "source": [
    "data = pd.read_csv(\"final_forreal.csv\")\n"
   ]
  },
  {
   "cell_type": "code",
   "execution_count": 9,
   "metadata": {},
   "outputs": [],
   "source": [
    "data.rename(columns={\"Income normalized\": \"Income_normalized\"}, inplace=True)\n"
   ]
  },
  {
   "cell_type": "code",
   "execution_count": 10,
   "metadata": {},
   "outputs": [
    {
     "data": {
      "text/plain": [
       "Index(['Address', 'Lead', 'bathrooms', 'bedrooms', 'city', 'cityId', 'county',\n",
       "       'countyFIPS', 'countyId', 'homeType', 'lastSoldPrice', 'latitude',\n",
       "       'livingArea', 'livingAreaValue', 'longitude', 'lotAreaValue', 'lotSize',\n",
       "       'parcelId', 'price', 'propertyTaxRate', 'regionString', 'rentZestimate',\n",
       "       'state', 'stateId', 'taxAssessedValue', 'yearBuilt', 'zestimate',\n",
       "       'zipcode', 'zpid', 'Hispanic or Latino', 'White alone',\n",
       "       'Black or African American alone',\n",
       "       'American Indian and Alaska Native alone', 'Asian alone',\n",
       "       'Native Hawaiian and Other Pacific Islander alone',\n",
       "       'Some Other Race alone', 'Population 18 to 24 years',\n",
       "       'Population 25 years and over', 'Population 25 to 34 years',\n",
       "       'Population 35 to 44 years', 'Population 45 to 64 years',\n",
       "       'Population 65 years and over', 'Income_normalized'],\n",
       "      dtype='object')"
      ]
     },
     "execution_count": 10,
     "metadata": {},
     "output_type": "execute_result"
    }
   ],
   "source": [
    "data.columns\n"
   ]
  },
  {
   "cell_type": "code",
   "execution_count": 29,
   "metadata": {},
   "outputs": [],
   "source": [
    "# Feature selection\n",
    "features = ['yearBuilt', 'longitude', 'latitude',\n",
    "            'Income_normalized']\n",
    "\n",
    "# Split the data into training and test sets\n",
    "train_data, test_data = train_test_split(data, test_size=0.3, random_state=88)\n"
   ]
  },
  {
   "cell_type": "code",
   "execution_count": 30,
   "metadata": {},
   "outputs": [
    {
     "name": "stdout",
     "output_type": "stream",
     "text": [
      "                            OLS Regression Results                            \n",
      "==============================================================================\n",
      "Dep. Variable:                   Lead   R-squared:                       0.078\n",
      "Model:                            OLS   Adj. R-squared:                  0.078\n",
      "Method:                 Least Squares   F-statistic:                     1009.\n",
      "Date:                Fri, 01 Dec 2023   Prob (F-statistic):               0.00\n",
      "Time:                        16:22:21   Log-Likelihood:                -16183.\n",
      "No. Observations:               47488   AIC:                         3.238e+04\n",
      "Df Residuals:                   47483   BIC:                         3.242e+04\n",
      "Df Model:                           4                                         \n",
      "Covariance Type:            nonrobust                                         \n",
      "=====================================================================================\n",
      "                        coef    std err          t      P>|t|      [0.025      0.975]\n",
      "-------------------------------------------------------------------------------------\n",
      "Intercept             3.7413      0.100     37.493      0.000       3.546       3.937\n",
      "yearBuilt            -0.0026   4.71e-05    -54.900      0.000      -0.003      -0.002\n",
      "longitude            -0.0062      0.000    -35.945      0.000      -0.007      -0.006\n",
      "latitude              0.0234      0.001     19.666      0.000       0.021       0.026\n",
      "Income_normalized    -0.0001   1.36e-05     -9.399      0.000      -0.000      -0.000\n",
      "==============================================================================\n",
      "Omnibus:                    13688.375   Durbin-Watson:                   2.003\n",
      "Prob(Omnibus):                  0.000   Jarque-Bera (JB):            29621.493\n",
      "Skew:                           1.736   Prob(JB):                         0.00\n",
      "Kurtosis:                       4.707   Cond. No.                     1.27e+05\n",
      "==============================================================================\n",
      "\n",
      "Notes:\n",
      "[1] Standard Errors assume that the covariance matrix of the errors is correctly specified.\n",
      "[2] The condition number is large, 1.27e+05. This might indicate that there are\n",
      "strong multicollinearity or other numerical problems.\n"
     ]
    }
   ],
   "source": [
    "# Train the model\n",
    "formula = 'Lead ~ ' + ' + '.join(features)\n",
    "model = smf.ols(formula=formula, data=train_data).fit()\n",
    "\n",
    "# Print the summary of the model\n",
    "print(model.summary())\n"
   ]
  },
  {
   "cell_type": "code",
   "execution_count": 31,
   "metadata": {},
   "outputs": [
    {
     "data": {
      "text/plain": [
       "50670    0\n",
       "25515    0\n",
       "51903    0\n",
       "26648    0\n",
       "8940     0\n",
       "        ..\n",
       "36185    0\n",
       "4189     0\n",
       "49614    0\n",
       "20394    0\n",
       "38434    0\n",
       "Length: 21165, dtype: int64"
      ]
     },
     "execution_count": 31,
     "metadata": {},
     "output_type": "execute_result"
    }
   ],
   "source": [
    "# Evaluate the model on the test data and\n",
    "X_test = test_data[features]\n",
    "y_test = test_data['Lead']\n",
    "\n",
    "# Predict lead result for the test data and round them\n",
    "y_pred = np.around(model.predict(X_test)).fillna(0).astype(int)\n",
    "y_pred\n"
   ]
  },
  {
   "cell_type": "code",
   "execution_count": 32,
   "metadata": {},
   "outputs": [
    {
     "name": "stdout",
     "output_type": "stream",
     "text": [
      "Accuracy: 0.8549019607843137\n"
     ]
    }
   ],
   "source": [
    "# calculate accuracy\n",
    "accuracy = (y_pred == y_test).sum() / len(y_test)\n",
    "\n",
    "print(\"Accuracy:\", accuracy)\n"
   ]
  },
  {
   "cell_type": "code",
   "execution_count": null,
   "metadata": {},
   "outputs": [],
   "source": []
  }
 ],
 "metadata": {
  "kernelspec": {
   "display_name": "base",
   "language": "python",
   "name": "python3"
  },
  "language_info": {
   "codemirror_mode": {
    "name": "ipython",
    "version": 3
   },
   "file_extension": ".py",
   "mimetype": "text/x-python",
   "name": "python",
   "nbconvert_exporter": "python",
   "pygments_lexer": "ipython3",
   "version": "3.9.12"
  }
 },
 "nbformat": 4,
 "nbformat_minor": 2
}

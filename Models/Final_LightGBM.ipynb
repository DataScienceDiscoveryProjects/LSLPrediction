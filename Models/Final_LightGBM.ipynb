{
  "nbformat": 4,
  "nbformat_minor": 0,
  "metadata": {
    "colab": {
      "provenance": []
    },
    "kernelspec": {
      "name": "python3",
      "display_name": "Python 3"
    },
    "language_info": {
      "name": "python"
    }
  },
  "cells": [
    {
      "cell_type": "markdown",
      "source": [
        "Data Processing"
      ],
      "metadata": {
        "id": "jLxX4vGuTA1B"
      }
    },
    {
      "cell_type": "code",
      "source": [
        "\n",
        "import pandas as pd\n",
        "df = pd.read_csv('/work/final_forreal.csv')\n",
        "\n",
        "home_ohe = pd.get_dummies(df['homeType'])\n",
        "home_ohe\n",
        "df = pd.concat([df, home_ohe], axis = 1)\n",
        "df\n",
        "\n",
        "import numpy as np\n",
        "from sklearn.model_selection import train_test_split\n",
        "from sklearn.preprocessing import StandardScaler\n",
        "from sklearn.impute import SimpleImputer\n",
        "from sklearn.ensemble import RandomForestClassifier\n",
        "from sklearn.metrics import roc_auc_score, accuracy_score, confusion_matrix\n",
        "from imblearn.over_sampling import SMOTE\n",
        "#columns=['Lead', 'Address', 'city', 'cityId', 'county', 'countyFIPS', 'homeType', 'livingArea', 'livingAreaValue', 'parcelId', 'price', 'regionString', 'state', 'stateId', 'zipcode']\n",
        "\n",
        "X = df.drop(columns=['Lead', 'Address', 'city', 'cityId', 'county', 'countyFIPS', 'homeType', 'livingArea', 'livingAreaValue', 'parcelId', 'price', 'regionString', 'state', 'stateId', 'zipcode'])\n",
        "y = df['Lead']\n",
        "\n",
        "# Replace NaN values with the mean of the non-missing values\n",
        "imputer = SimpleImputer(strategy=\"mean\")\n",
        "X = imputer.fit_transform(X)\n",
        "\n",
        "# Split the data into training and testing sets\n",
        "X_train, X_test, y_train, y_test = train_test_split(X, y, test_size=0.2, random_state=42)\n",
        "\n",
        "# Standardize the input features\n",
        "scaler = StandardScaler()\n",
        "X_train = scaler.fit_transform(X_train)\n",
        "X_test = scaler.transform(X_test)\n",
        "\n",
        "# Use SMOTE to oversample the positive class to 30,000 samples\n",
        "smote = SMOTE(sampling_strategy={1: 50000}, random_state=42)\n",
        "X_train_resampled, y_train_resampled = smote.fit_resample(X_train, y_train)"
      ],
      "metadata": {
        "id": "jDNI06uUAKRK"
      },
      "execution_count": null,
      "outputs": []
    },
    {
      "cell_type": "markdown",
      "source": [
        "Model"
      ],
      "metadata": {
        "id": "RwApywFfTDQe"
      }
    },
    {
      "cell_type": "code",
      "source": [
        "import lightgbm as lgb\n",
        "from sklearn.metrics import accuracy_score, confusion_matrix, roc_auc_score\n",
        "\n",
        "# LightGBM model with combined data\n",
        "lgb_model = lgb.LGBMClassifier(\n",
        "    random_state=42,\n",
        "    metric='binary_error'  # Note: LightGBM uses binary_error for binary classification\n",
        ")\n",
        "\n",
        "# Train the model on the resampled training data\n",
        "lgb_model.fit(X_train_resampled, y_train_resampled, eval_set=[(X_test, y_test)])\n",
        "\n",
        "# Get class probabilities for the test data\n",
        "probabilities = lgb_model.predict_proba(X_test)\n",
        "\n",
        "# Calculate AUROC on the test data\n",
        "auroc = roc_auc_score(y_test, probabilities[:, 1])\n",
        "\n",
        "# Make predictions on the test data\n",
        "lgb_predict = lgb_model.predict(X_test)\n",
        "\n",
        "# Calculate accuracy\n",
        "accuracy = accuracy_score(y_test, lgb_predict)\n",
        "\n",
        "# Calculate false-negative rate\n",
        "conf_matrix = confusion_matrix(y_test, lgb_predict)\n",
        "false_negative_rate = conf_matrix[1, 0] / (conf_matrix[1, 0] + conf_matrix[1, 1])\n",
        "\n",
        "# Print metrics\n",
        "print('AUROC:', auroc)\n",
        "print('Accuracy:', accuracy)\n",
        "print('False Negative Rate:', false_negative_rate)"
      ],
      "metadata": {
        "id": "5GbJqorpTEs3"
      },
      "execution_count": null,
      "outputs": []
    }
  ]
}
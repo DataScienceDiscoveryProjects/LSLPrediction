{
  "nbformat": 4,
  "nbformat_minor": 0,
  "metadata": {
    "colab": {
      "provenance": []
    },
    "kernelspec": {
      "name": "python3",
      "display_name": "Python 3"
    },
    "language_info": {
      "name": "python"
    }
  },
  "cells": [
    {
      "cell_type": "code",
      "source": [
        "!pip install scrapfly-sdk\n",
        "!pip install httpx parsel loguru\n",
        "!pip install httpx[http2]\n",
        "!pip install nest_asyncio"
      ],
      "metadata": {
        "colab": {
          "base_uri": "https://localhost:8080/"
        },
        "id": "FmNECCQUtNiz",
        "outputId": "a351b59d-b18b-4e85-85c4-f32d5118c07e"
      },
      "execution_count": 22,
      "outputs": [
        {
          "output_type": "stream",
          "name": "stdout",
          "text": [
            "Requirement already satisfied: scrapfly-sdk in /usr/local/lib/python3.10/dist-packages (0.8.9)\n",
            "Requirement already satisfied: decorator>=4.2.0 in /usr/local/lib/python3.10/dist-packages (from scrapfly-sdk) (4.4.2)\n",
            "Requirement already satisfied: requests>=2.25.0 in /usr/local/lib/python3.10/dist-packages (from scrapfly-sdk) (2.31.0)\n",
            "Requirement already satisfied: python-dateutil<3.0.0,>=2.1 in /usr/local/lib/python3.10/dist-packages (from scrapfly-sdk) (2.8.2)\n",
            "Requirement already satisfied: loguru>=0.5 in /usr/local/lib/python3.10/dist-packages (from scrapfly-sdk) (0.7.2)\n",
            "Requirement already satisfied: urllib3>=1.26.0 in /usr/local/lib/python3.10/dist-packages (from scrapfly-sdk) (2.0.4)\n",
            "Requirement already satisfied: backoff>=1.10.0 in /usr/local/lib/python3.10/dist-packages (from scrapfly-sdk) (2.2.1)\n",
            "Requirement already satisfied: six>=1.5 in /usr/local/lib/python3.10/dist-packages (from python-dateutil<3.0.0,>=2.1->scrapfly-sdk) (1.16.0)\n",
            "Requirement already satisfied: charset-normalizer<4,>=2 in /usr/local/lib/python3.10/dist-packages (from requests>=2.25.0->scrapfly-sdk) (3.2.0)\n",
            "Requirement already satisfied: idna<4,>=2.5 in /usr/local/lib/python3.10/dist-packages (from requests>=2.25.0->scrapfly-sdk) (3.4)\n",
            "Requirement already satisfied: certifi>=2017.4.17 in /usr/local/lib/python3.10/dist-packages (from requests>=2.25.0->scrapfly-sdk) (2023.7.22)\n",
            "Requirement already satisfied: httpx in /usr/local/lib/python3.10/dist-packages (0.25.0)\n",
            "Requirement already satisfied: parsel in /usr/local/lib/python3.10/dist-packages (1.8.1)\n",
            "Requirement already satisfied: loguru in /usr/local/lib/python3.10/dist-packages (0.7.2)\n",
            "Requirement already satisfied: certifi in /usr/local/lib/python3.10/dist-packages (from httpx) (2023.7.22)\n",
            "Requirement already satisfied: httpcore<0.19.0,>=0.18.0 in /usr/local/lib/python3.10/dist-packages (from httpx) (0.18.0)\n",
            "Requirement already satisfied: idna in /usr/local/lib/python3.10/dist-packages (from httpx) (3.4)\n",
            "Requirement already satisfied: sniffio in /usr/local/lib/python3.10/dist-packages (from httpx) (1.3.0)\n",
            "Requirement already satisfied: cssselect>=0.9 in /usr/local/lib/python3.10/dist-packages (from parsel) (1.2.0)\n",
            "Requirement already satisfied: jmespath in /usr/local/lib/python3.10/dist-packages (from parsel) (1.0.1)\n",
            "Requirement already satisfied: lxml in /usr/local/lib/python3.10/dist-packages (from parsel) (4.9.3)\n",
            "Requirement already satisfied: packaging in /usr/local/lib/python3.10/dist-packages (from parsel) (23.1)\n",
            "Requirement already satisfied: w3lib>=1.19.0 in /usr/local/lib/python3.10/dist-packages (from parsel) (2.1.2)\n",
            "Requirement already satisfied: anyio<5.0,>=3.0 in /usr/local/lib/python3.10/dist-packages (from httpcore<0.19.0,>=0.18.0->httpx) (3.7.1)\n",
            "Requirement already satisfied: h11<0.15,>=0.13 in /usr/local/lib/python3.10/dist-packages (from httpcore<0.19.0,>=0.18.0->httpx) (0.14.0)\n",
            "Requirement already satisfied: exceptiongroup in /usr/local/lib/python3.10/dist-packages (from anyio<5.0,>=3.0->httpcore<0.19.0,>=0.18.0->httpx) (1.1.3)\n",
            "Requirement already satisfied: httpx[http2] in /usr/local/lib/python3.10/dist-packages (0.25.0)\n",
            "Requirement already satisfied: certifi in /usr/local/lib/python3.10/dist-packages (from httpx[http2]) (2023.7.22)\n",
            "Requirement already satisfied: httpcore<0.19.0,>=0.18.0 in /usr/local/lib/python3.10/dist-packages (from httpx[http2]) (0.18.0)\n",
            "Requirement already satisfied: idna in /usr/local/lib/python3.10/dist-packages (from httpx[http2]) (3.4)\n",
            "Requirement already satisfied: sniffio in /usr/local/lib/python3.10/dist-packages (from httpx[http2]) (1.3.0)\n",
            "Requirement already satisfied: h2<5,>=3 in /usr/local/lib/python3.10/dist-packages (from httpx[http2]) (4.1.0)\n",
            "Requirement already satisfied: hyperframe<7,>=6.0 in /usr/local/lib/python3.10/dist-packages (from h2<5,>=3->httpx[http2]) (6.0.1)\n",
            "Requirement already satisfied: hpack<5,>=4.0 in /usr/local/lib/python3.10/dist-packages (from h2<5,>=3->httpx[http2]) (4.0.0)\n",
            "Requirement already satisfied: anyio<5.0,>=3.0 in /usr/local/lib/python3.10/dist-packages (from httpcore<0.19.0,>=0.18.0->httpx[http2]) (3.7.1)\n",
            "Requirement already satisfied: h11<0.15,>=0.13 in /usr/local/lib/python3.10/dist-packages (from httpcore<0.19.0,>=0.18.0->httpx[http2]) (0.14.0)\n",
            "Requirement already satisfied: exceptiongroup in /usr/local/lib/python3.10/dist-packages (from anyio<5.0,>=3.0->httpcore<0.19.0,>=0.18.0->httpx[http2]) (1.1.3)\n",
            "Requirement already satisfied: nest_asyncio in /usr/local/lib/python3.10/dist-packages (1.5.7)\n"
          ]
        }
      ]
    },
    {
      "cell_type": "code",
      "source": [
        "import asyncio\n",
        "import httpx\n",
        "import json\n",
        "import nest_asyncio\n",
        "nest_asyncio.apply()\n",
        "from parsel import Selector\n",
        "\n",
        "client = httpx.AsyncClient(\n",
        "    # enable http2\n",
        "    http2=True,\n",
        "    # add basic browser-like headers to prevent being blocked\n",
        "    headers={\n",
        "        \"accept-language\": \"en-US,en;q=0.9\",\n",
        "        \"user-agent\": \"Mozilla/5.0 (Windows NT 10.0; Win64; x64) AppleWebKit/537.36 (KHTML, like Gecko) Chrome/96.0.4664.110 Safari/537.36\",\n",
        "        \"accept\": \"text/html,application/xhtml+xml,application/xml;q=0.9,image/webp,image/apng,*/*;q=0.8\",\n",
        "        \"accept-language\": \"en-US;en;q=0.9\",\n",
        "        \"accept-encoding\": \"gzip, deflate, br\",\n",
        "    },\n",
        ")\n",
        "\n",
        "\n",
        "async def scrape_property_info(url: str):\n",
        "    \"\"\"Scrape a single Zillow property page for property information.\"\"\"\n",
        "    async with httpx.AsyncClient(\n",
        "        # enable http2\n",
        "        http2=True,\n",
        "        # add basic browser-like headers to prevent being blocked\n",
        "        headers={\n",
        "            \"accept-language\": \"en-US,en;q=0.9\",\n",
        "            \"user-agent\": \"Mozilla/5.0 (Windows NT 10.0; Win64; x64) AppleWebKit/537.36 (KHTML, like Gecko) Chrome/96.0.4664.110 Safari/537.36\",\n",
        "            \"accept\": \"text/html,application/xhtml+xml,application/xml;q=0.9,image/webp,image/apng,*/*;q=0.8\",\n",
        "            \"accept-language\": \"en-US;en;q=0.9\",\n",
        "            \"accept-encoding\": \"gzip, deflate, br\",\n",
        "        },\n",
        "    ) as client:\n",
        "        response = await client.get(url)\n",
        "        assert response.status_code == 200, \"Request has been blocked\"\n",
        "        selector = Selector(response.text)\n",
        "        data = selector.css(\"script#__NEXT_DATA__::text\").get()\n",
        "        if data:\n",
        "            # Option 1: some properties are located in NEXT DATA cache\n",
        "            data = json.loads(data)\n",
        "            property_data = json.loads(data[\"props\"][\"pageProps\"][\"gdpClientCache\"])\n",
        "            property_data = next(v['property'] for v in property_data.values())\n",
        "        else:\n",
        "            # Option 2: other times it's in Apollo cache\n",
        "            data = selector.css(\"script#hdpApolloPreloadedData::text\").get()\n",
        "            data = json.loads(json.loads(data)[\"apiCache\"])\n",
        "            property_data = next(\n",
        "                v[\"property\"] for k, v in data.items() if \"ForSale\" in k\n",
        "            )\n",
        "\n",
        "        # Extract property information\n",
        "        zip_code = property_data.get(\"address\", {}).get(\"zipcode\")\n",
        "        bedrooms = property_data.get(\"bedrooms\")\n",
        "        bathrooms = property_data.get(\"bathrooms\")\n",
        "        year_built = property_data.get(\"yearBuilt\")\n",
        "        property_value = property_data.get(\"price\")\n",
        "\n",
        "        return {\n",
        "            \"Zip Code\": zip_code,\n",
        "            \"Bedrooms\": bedrooms,\n",
        "            \"Bathrooms\": bathrooms,\n",
        "            \"Year Built\": year_built,\n",
        "            \"Property Value\": property_value,\n",
        "        }\n",
        "\n",
        "# example run:\n",
        "if __name__ == \"__main__\":\n",
        "    async def run():\n",
        "        property_info = await scrape_property_info(\n",
        "            #URL HERE\n",
        "            \"https://www.zillow.com/homedetails/162-Bentley-St-Staten-Island-NY-10307/32377844_zpid/\"\n",
        "        )\n",
        "        print(\"Property Information:\")\n",
        "        for key, value in property_info.items():\n",
        "            print(f\"{key}: {value}\")\n",
        "\n",
        "    asyncio.run(run())"
      ],
      "metadata": {
        "colab": {
          "base_uri": "https://localhost:8080/"
        },
        "id": "cBQn9VH3Pkex",
        "outputId": "7a9f58d6-da52-4990-9c7a-39c83c0e47c2"
      },
      "execution_count": 27,
      "outputs": [
        {
          "output_type": "stream",
          "name": "stdout",
          "text": [
            "Property Information:\n",
            "Zip Code: 10307\n",
            "Bedrooms: None\n",
            "Bathrooms: None\n",
            "Year Built: 1945\n",
            "Property Value: 693800\n"
          ]
        }
      ]
    }
  ]
}
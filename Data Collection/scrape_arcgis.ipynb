{
  "nbformat": 4,
  "nbformat_minor": 0,
  "metadata": {
    "colab": {
      "provenance": []
    },
    "kernelspec": {
      "name": "python3",
      "display_name": "Python 3"
    },
    "language_info": {
      "name": "python"
    }
  },
  "cells": [
    {
      "cell_type": "code",
      "source": [
        "!pip install arcgis"
      ],
      "metadata": {
        "id": "S_TqdVJ6N120"
      },
      "execution_count": null,
      "outputs": []
    },
    {
      "cell_type": "markdown",
      "source": [
        "How to access web map URL:\n",
        "1. access the arcgis map (example: https://www.arcgis.com/apps/View/index.html?appid=cb5d6630085b4e4b96ff7fd1adf39025)\n",
        "2. Select inspect element\n",
        "3. Select network tab\n",
        "4. reload the page\n",
        "5. search for id sequence in 'request url'"
      ],
      "metadata": {
        "id": "70G1yUv39Mko"
      }
    },
    {
      "cell_type": "markdown",
      "source": [
        "Accessing ArcGIS FeatureSet"
      ],
      "metadata": {
        "id": "OXOu-0-v7LGv"
      }
    },
    {
      "cell_type": "code",
      "source": [
        "from arcgis import GIS\n",
        "from arcgis.features import FeatureSet\n",
        "from arcgis.mapping import WebMap\n",
        "\n",
        "# Connect to your ArcGIS Online account\n",
        "gis = GIS()\n",
        "\n",
        "# Specify the URL of the web map:\n",
        "#denver: web_map_url = \"962ae7d62e8d434992b3b87383c0e57e\"\n",
        "#dc: web_map_url = \"95c030f1bfdd4eada6108686a0e99425\"\n",
        "#cincinatti: web_map_url = \"9d2da8ea8b4f494e821fdca7a18f73c9\"\n",
        "#trenton: web_map_url = 'dc56addc3b704154a17f3a07671bda1c'\n",
        "#pittsburgh: web_map_url = 'fe8c7a4dd6d24959ac765660ba3a7c1a'\n",
        "web_map_url = 'fe8c7a4dd6d24959ac765660ba3a7c1a'\n",
        "\n",
        "# Access the web map\n",
        "the_map = WebMap(gis.content.get(web_map_url))\n",
        "print(the_map.layers)\n",
        "\n",
        "# Iterate through the layers in the web map and extract data\n",
        "for layer in the_map.layers:\n",
        "    # Check if the layer has feature data (FeatureCollection)\n",
        "    if 'featureCollection' in layer:\n",
        "        # Access the feature set and create a FeatureSet object\n",
        "        feature_set_data = layer['featureCollection']['layers'][0]['featureSet']\n",
        "        fs = FeatureSet.from_dict(feature_set_data)\n",
        "\n",
        "        # Now you can work with the FeatureSet data\n",
        "        # For example, you can access features using fs.features\n",
        "        for feature in fs.features:\n",
        "            # Process each feature as needed\n",
        "            print(len(feature.attributes))"
      ],
      "metadata": {
        "id": "j0oiyQrNNMHz"
      },
      "execution_count": null,
      "outputs": []
    },
    {
      "cell_type": "markdown",
      "source": [
        "Using esridump repo: https://pypi.org/project/esridump/"
      ],
      "metadata": {
        "id": "Tf1YAXoU7fYI"
      }
    },
    {
      "cell_type": "code",
      "source": [
        "!pip install esridump"
      ],
      "metadata": {
        "id": "EdHxjc-FbT9t"
      },
      "execution_count": null,
      "outputs": []
    },
    {
      "cell_type": "code",
      "source": [
        "\"\"\"\n",
        "running command to scrape ArcGIS server into geojson file using feature server link from above\n",
        "example:\n",
        "!esri2geojson https://services.arcgis.com/czCXlxn6hYtK4vdg/arcgis/rest/services/Denver_Water_Service_Area/FeatureServer/0 denver.geojson\n",
        "\"\"\"\n",
        "!esri2geojson https://services5.arcgis.com/jAsbh6V9IpseXByp/arcgis/rest/services/PWSA_Water_Service_Line_Material/FeatureServer/0 pitt.geojson"
      ],
      "metadata": {
        "id": "BYnOzVrZNjdM"
      },
      "execution_count": null,
      "outputs": []
    },
    {
      "cell_type": "markdown",
      "source": [
        "Cell for viewing elements in geojson file"
      ],
      "metadata": {
        "id": "Mc85rgPX8vb3"
      }
    },
    {
      "cell_type": "code",
      "source": [
        "import json\n",
        "from esridump.dumper import EsriDumper\n",
        "import csv\n",
        "\n",
        "d = EsriDumper('https://services5.arcgis.com/jAsbh6V9IpseXByp/arcgis/rest/services/PWSA_Water_Service_Line_Material/FeatureServer/0')\n",
        "\n",
        "# Iterate over each feature\n",
        "for feature in d:\n",
        "    print(json.dumps(feature))"
      ],
      "metadata": {
        "id": "XWs6f9P3cDV6"
      },
      "execution_count": null,
      "outputs": []
    },
    {
      "cell_type": "markdown",
      "source": [
        "Converting a given geojson file to csv"
      ],
      "metadata": {
        "id": "dFOXf7mz8-8u"
      }
    },
    {
      "cell_type": "code",
      "source": [
        "path = '/content/pitt.geojson'\n",
        "\n",
        "import json\n",
        "import csv\n",
        "\n",
        "# Open the GeoJSON file for reading\n",
        "with open(path, 'r') as geojson_file:\n",
        "    data = json.load(geojson_file)\n",
        "\n",
        "# Create a CSV file for writing\n",
        "with open('pitt.csv', 'w', newline='') as csv_file:\n",
        "    csv_writer = csv.writer(csv_file)\n",
        "\n",
        "    # Write the header row with column names (assuming you want properties)\n",
        "    # Change this if you need specific columns from the GeoJSON features\n",
        "    header = data['features'][0]['properties'].keys()\n",
        "    csv_writer.writerow(header)\n",
        "\n",
        "    # Loop through features and write rows to the CSV\n",
        "    for feature in data['features']:\n",
        "        properties = feature['properties']\n",
        "        row = [properties[column] for column in header]\n",
        "        csv_writer.writerow(row)"
      ],
      "metadata": {
        "id": "gMPb7Pb8UEfW"
      },
      "execution_count": null,
      "outputs": []
    }
  ]
}
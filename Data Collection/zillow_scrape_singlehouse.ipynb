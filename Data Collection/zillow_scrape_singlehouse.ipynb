{
  "nbformat": 4,
  "nbformat_minor": 0,
  "metadata": {
    "colab": {
      "provenance": []
    },
    "kernelspec": {
      "name": "python3",
      "display_name": "Python 3"
    },
    "language_info": {
      "name": "python"
    }
  },
  "cells": [
    {
      "cell_type": "markdown",
      "source": [
        "Script for scraping a single zillow link"
      ],
      "metadata": {
        "id": "bxK4JHExCoWE"
      }
    },
    {
      "cell_type": "code",
      "source": [
        "!pip install scrapfly-sdk\n",
        "!pip install httpx parsel loguru\n",
        "!pip install httpx[http2]\n",
        "!pip install nest_asyncio"
      ],
      "metadata": {
        "id": "FmNECCQUtNiz"
      },
      "execution_count": null,
      "outputs": []
    },
    {
      "cell_type": "code",
      "source": [
        "import asyncio\n",
        "import httpx\n",
        "import json\n",
        "import nest_asyncio\n",
        "nest_asyncio.apply()\n",
        "from parsel import Selector\n",
        "\n",
        "client = httpx.AsyncClient(\n",
        "    # enable http2\n",
        "    http2=True,\n",
        "    # add basic browser-like headers to prevent being blocked\n",
        "    headers={\n",
        "        \"accept-language\": \"en-US,en;q=0.9\",\n",
        "        \"user-agent\": \"Mozilla/5.0 (Windows NT 10.0; Win64; x64) AppleWebKit/537.36 (KHTML, like Gecko) Chrome/96.0.4664.110 Safari/537.36\",\n",
        "        \"accept\": \"text/html,application/xhtml+xml,application/xml;q=0.9,image/webp,image/apng,*/*;q=0.8\",\n",
        "        \"accept-language\": \"en-US;en;q=0.9\",\n",
        "        \"accept-encoding\": \"gzip, deflate, br\",\n",
        "    },\n",
        ")\n",
        "\n",
        "\n",
        "async def scrape_property_info(url: str):\n",
        "    \"\"\"Scrape a single Zillow property page for property information.\"\"\"\n",
        "    async with httpx.AsyncClient(\n",
        "        # enable http2\n",
        "        http2=True,\n",
        "        # add basic browser-like headers to prevent being blocked\n",
        "        headers={\n",
        "            \"accept-language\": \"en-US,en;q=0.9\",\n",
        "            \"user-agent\": \"Mozilla/5.0 (Windows NT 10.0; Win64; x64) AppleWebKit/537.36 (KHTML, like Gecko) Chrome/96.0.4664.110 Safari/537.36\",\n",
        "            \"accept\": \"text/html,application/xhtml+xml,application/xml;q=0.9,image/webp,image/apng,*/*;q=0.8\",\n",
        "            \"accept-language\": \"en-US;en;q=0.9\",\n",
        "            \"accept-encoding\": \"gzip, deflate, br\",\n",
        "        },\n",
        "    ) as client:\n",
        "        response = await client.get(url)\n",
        "        assert response.status_code == 200, \"Request has been blocked\"\n",
        "        selector = Selector(response.text)\n",
        "        data = selector.css(\"script#__NEXT_DATA__::text\").get()\n",
        "        if data:\n",
        "            # Option 1: some properties are located in NEXT DATA cache\n",
        "            data = json.loads(data)\n",
        "            property_data = json.loads(data[\"props\"][\"pageProps\"][\"gdpClientCache\"])\n",
        "            property_data = next(v['property'] for v in property_data.values())\n",
        "        else:\n",
        "            # Option 2: other times it's in Apollo cache\n",
        "            data = selector.css(\"script#hdpApolloPreloadedData::text\").get()\n",
        "            data = json.loads(json.loads(data)[\"apiCache\"])\n",
        "            property_data = next(\n",
        "                v[\"property\"] for k, v in data.items() if \"ForSale\" in k\n",
        "            )\n",
        "\n",
        "        # Extract property information\n",
        "        zip_code = property_data.get(\"address\", {}).get(\"zipcode\")\n",
        "        bedrooms = property_data.get(\"bedrooms\")\n",
        "        bathrooms = property_data.get(\"bathrooms\")\n",
        "        year_built = property_data.get(\"yearBuilt\")\n",
        "        property_value = property_data.get(\"price\")\n",
        "\n",
        "        return {\n",
        "            \"Zip Code\": zip_code,\n",
        "            \"Bedrooms\": bedrooms,\n",
        "            \"Bathrooms\": bathrooms,\n",
        "            \"Year Built\": year_built,\n",
        "            \"Property Value\": property_value,\n",
        "        }\n",
        "\n",
        "# example run:\n",
        "if __name__ == \"__main__\":\n",
        "    async def run():\n",
        "        property_info = await scrape_property_info(\n",
        "            #URL HERE\n",
        "            \"https://www.zillow.com/homedetails/162-Bentley-St-Staten-Island-NY-10307/32377844_zpid/\"\n",
        "        )\n",
        "        print(\"Property Information:\")\n",
        "        for key, value in property_info.items():\n",
        "            print(f\"{key}: {value}\")\n",
        "\n",
        "    asyncio.run(run())"
      ],
      "metadata": {
        "colab": {
          "base_uri": "https://localhost:8080/"
        },
        "id": "cBQn9VH3Pkex",
        "outputId": "7a9f58d6-da52-4990-9c7a-39c83c0e47c2"
      },
      "execution_count": null,
      "outputs": [
        {
          "output_type": "stream",
          "name": "stdout",
          "text": [
            "Property Information:\n",
            "Zip Code: 10307\n",
            "Bedrooms: None\n",
            "Bathrooms: None\n",
            "Year Built: 1945\n",
            "Property Value: 693800\n"
          ]
        }
      ]
    },
    {
      "cell_type": "code",
      "source": [
        "!pip install requests-html"
      ],
      "metadata": {
        "id": "ihWdhkIx4v7h"
      },
      "execution_count": null,
      "outputs": []
    },
    {
      "cell_type": "code",
      "source": [
        "import os\n",
        "from requests_html import HTMLSession\n",
        "\n",
        "os.system('cls' if os.name == 'nt' else 'clear')\n",
        "\n",
        "Query = input('Enter Your Query : ')\n",
        "Limit = int(input('Enter No. Of Urls To Scrape : '))\n",
        "\n",
        "file = open('Results.txt', 'w')\n",
        "\n",
        "s = HTMLSession()\n",
        "\n",
        "headers = {\n",
        "    'authority': 'www.google.com',\n",
        "    'accept': 'text/html,application/xhtml+xml,application/xml;q=0.9,image/avif,image/webp,image/apng,*/*;q=0.8',\n",
        "    'accept-language': 'en-US,en;q=0.5',\n",
        "    'sec-fetch-dest': 'document',\n",
        "    'sec-fetch-mode': 'navigate',\n",
        "    'sec-fetch-site': 'none',\n",
        "    'sec-fetch-user': '?1',\n",
        "    'sec-gpc': '1',\n",
        "    'upgrade-insecure-requests': '1',\n",
        "    'user-agent': 'Mozilla/5.0 (Windows NT 10.0; Win64; x64) AppleWebKit/537.36 (KHTML, like Gecko) Chrome/107.0.0.0 Safari/537.36',\n",
        "}\n",
        "\n",
        "params = {\n",
        "    'q': Query,\n",
        "    'num': Limit,\n",
        "}\n",
        "\n",
        "response = s.get('https://www.google.com/search', params=params)\n",
        "\n",
        "if 'did not match any documents' in response.text:\n",
        "    exit('No Results Found')\n",
        "elif 'Our systems have detected unusual traffic from your computer' in response.text:\n",
        "    exit('Captcha Triggered!\\nUse Vpn Or Try After Sometime.')\n",
        "else:\n",
        "    links = list(response.html.absolute_links)\n",
        "    for url in links[:]:\n",
        "        if not 'google' in url:\n",
        "            print(url)\n",
        "            file.write(url+'\\n')"
      ],
      "metadata": {
        "colab": {
          "base_uri": "https://localhost:8080/"
        },
        "id": "jpORmMte5oRK",
        "outputId": "2825a076-afca-4af6-85ef-2e056b6ebaf8"
      },
      "execution_count": null,
      "outputs": [
        {
          "output_type": "stream",
          "name": "stdout",
          "text": [
            "Enter Your Query : 162 bentley street zillow\n",
            "Enter No. Of Urls To Scrape : 5\n",
            "https://www.zillow.com/homedetails/162-Bentley-St-East-Providence-RI-02914/65832571_zpid/\n",
            "https://www.zillow.com/homedetails/162-SW-Bentley-St-Madison-FL-32340/60166485_zpid/\n",
            "https://www.zillow.com/homedetails/162-Bentley-Dr-Milledgeville-GA-31061/98937951_zpid/\n",
            "https://www.zillow.com/homedetails/162-Bentley-St-Taneytown-MD-21787/54474455_zpid/\n",
            "https://www.zillow.com/homedetails/162-Bentley-St-Staten-Island-NY-10307/32377844_zpid/\n"
          ]
        }
      ]
    }
  ]
}